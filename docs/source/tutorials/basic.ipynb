{
 "cells": [
  {
   "cell_type": "markdown",
   "metadata": {},
   "source": [
    "[![Open In Colab](https://colab.research.google.com/assets/colab-badge.svg)](https://colab.research.google.com/github/ddmms/pack-mm/blob/main/docs/source/tutorials/basic.ipynb)\n",
    "\n",
    "# Simple example\n",
    "\n",
    "## Set up environment (optional)\n",
    "\n",
    "These steps are required for Google Colab, but may work on other systems too:"
   ]
  },
  {
   "cell_type": "code",
   "execution_count": null,
   "metadata": {},
   "outputs": [],
   "source": [
    "#import locale\n",
    "#locale.getpreferredencoding = lambda: \"UTF-8\"\n",
    "#!python3 -m pip install pack_mm data_tutorials weas-widget\n"
   ]
  },
  {
   "cell_type": "code",
   "execution_count": null,
   "metadata": {},
   "outputs": [],
   "source": [
    "from data_tutorials.data import get_data\n",
    "\n",
    "get_data(\n",
    "    url=\"https://raw.githubusercontent.com/ddmms/pack-mm/main/examples/data/\",\n",
    "    filename=[\"UiO-66.cif\", \"MFI.cif\"],\n",
    "    folder=\"data\",\n",
    ")"
   ]
  },
  {
   "cell_type": "code",
   "execution_count": null,
   "metadata": {},
   "outputs": [],
   "source": [
    "from weas_widget import WeasWidget\n",
    "from ase.io import read\n",
    "viewer = WeasWidget()\n",
    "\n",
    "mof = read(\"data/UiO-66.cif\")\n",
    "\n",
    "viewer.from_ase(mof)\n",
    "viewer"
   ]
  },
  {
   "cell_type": "code",
   "execution_count": null,
   "metadata": {},
   "outputs": [],
   "source": [
    "from pack_mm.core.core import pack_molecules\n",
    "\n",
    "e, final = pack_molecules(\n",
    "        system=mof,\n",
    "        molecule=\"SO2\",\n",
    "        nmols=3,\n",
    "        arch=\"mace_mp\",\n",
    "        model=\"small-0b2\",\n",
    "        device=\"cpu\",\n",
    "        where=\"sphere\",\n",
    "        center=(2.5, 2.5, 2.5),\n",
    "        radius=2.5,\n",
    "        seed=2042,\n",
    "        temperature=300,\n",
    "        ntries=20,\n",
    "        geometry=False,    \n",
    "        )\n",
    "\n",
    "\n",
    "\n"
   ]
  },
  {
   "cell_type": "code",
   "execution_count": null,
   "metadata": {},
   "outputs": [],
   "source": [
    "viewer2 = WeasWidget()\n",
    "viewer2.from_ase(final)\n",
    "viewer2"
   ]
  }
 ],
 "metadata": {
  "kernelspec": {
   "display_name": "janus",
   "language": "python",
   "name": "python3"
  },
  "language_info": {
   "codemirror_mode": {
    "name": "ipython",
    "version": 3
   },
   "file_extension": ".py",
   "mimetype": "text/x-python",
   "name": "python",
   "nbconvert_exporter": "python",
   "pygments_lexer": "ipython3",
   "version": "3.12.0"
  }
 },
 "nbformat": 4,
 "nbformat_minor": 2
}
